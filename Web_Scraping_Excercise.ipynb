{
  "nbformat": 4,
  "nbformat_minor": 0,
  "metadata": {
    "colab": {
      "provenance": [],
      "authorship_tag": "ABX9TyN0zS9Wr9AXv/dpS7OuvPFf",
      "include_colab_link": true
    },
    "kernelspec": {
      "name": "python3",
      "display_name": "Python 3"
    },
    "language_info": {
      "name": "python"
    }
  },
  "cells": [
    {
      "cell_type": "markdown",
      "metadata": {
        "id": "view-in-github",
        "colab_type": "text"
      },
      "source": [
        "<a href=\"https://colab.research.google.com/github/GraceOby/Course-Codes/blob/main/Web_Scraping_Excercise.ipynb\" target=\"_parent\"><img src=\"https://colab.research.google.com/assets/colab-badge.svg\" alt=\"Open In Colab\"/></a>"
      ]
    },
    {
      "cell_type": "markdown",
      "source": [
        "**Top Data Analytics companies**\n",
        "\n",
        "The aim of this project is to scrape data from GoodFirms website, A site that gathers reviews and reports on 'Top Service Companies and Software Products'.\n",
        "\n",
        "We will focus on collecting data on Data Analytics companies. Data we will retrieve will include:\n",
        "\n",
        "\n",
        "\n",
        "\n",
        "*   Review\n",
        "*   Ratings\n",
        "*   Year Founded\n",
        "*   Location, amongst others.\n",
        "\n",
        "Find below link to the page we will be scraping during this session:\n",
        "https://www.goodfirms.co/big-data-analytics/data-analytics\n",
        "\n",
        "\n",
        "\n"
      ],
      "metadata": {
        "id": "YfvDIon8Yoq_"
      }
    },
    {
      "cell_type": "markdown",
      "source": [
        "**STEPS**\n",
        "\n",
        "\n",
        "1.   Importing Libraries\n",
        "2.   Accessing and Downloading Page Html\n",
        "3.   Extracting needed contents\n",
        "4.   Converting to DataFrame\n",
        "\n",
        "*Futher Work:*\n",
        "\n",
        "Generate questions this Dataset can aid us do some analysis\n",
        "\n",
        "Clean Dataset\n",
        "\n",
        "Extract other two pages\n",
        "\n",
        "\n"
      ],
      "metadata": {
        "id": "Nb_JvTd6a7dB"
      }
    },
    {
      "cell_type": "markdown",
      "source": [
        "**Importing Libraries**"
      ],
      "metadata": {
        "id": "_ZP5ptkdcmnp"
      }
    },
    {
      "cell_type": "code",
      "execution_count": 1,
      "metadata": {
        "id": "TN-PPCZhYOcl"
      },
      "outputs": [],
      "source": [
        "import pandas as pd\n",
        "import requests as r\n",
        "from bs4 import BeautifulSoup "
      ]
    },
    {
      "cell_type": "markdown",
      "source": [
        "**Accessing Webpage**"
      ],
      "metadata": {
        "id": "HWrxvQxtc8wD"
      }
    },
    {
      "cell_type": "code",
      "source": [
        "url = \"https://www.goodfirms.co/big-data-analytics/data-analytics\"\n",
        "page1 = r.get(url)\n",
        "page1.status_code"
      ],
      "metadata": {
        "colab": {
          "base_uri": "https://localhost:8080/"
        },
        "id": "HkKGf4uOdBvW",
        "outputId": "f38a79b6-3f61-4bd9-c616-21a13c5eb12e"
      },
      "execution_count": 2,
      "outputs": [
        {
          "output_type": "execute_result",
          "data": {
            "text/plain": [
              "200"
            ]
          },
          "metadata": {},
          "execution_count": 2
        }
      ]
    },
    {
      "cell_type": "code",
      "source": [
        "page1"
      ],
      "metadata": {
        "colab": {
          "base_uri": "https://localhost:8080/"
        },
        "id": "EmAfqoP3fTv0",
        "outputId": "01382a58-02cf-4bbf-b35f-1de91cbd9bad"
      },
      "execution_count": 3,
      "outputs": [
        {
          "output_type": "execute_result",
          "data": {
            "text/plain": [
              "<Response [200]>"
            ]
          },
          "metadata": {},
          "execution_count": 3
        }
      ]
    },
    {
      "cell_type": "markdown",
      "source": [
        "**Saving html content for viewing**"
      ],
      "metadata": {
        "id": "CNXjo5VifhFC"
      }
    },
    {
      "cell_type": "code",
      "source": [
        "with open(\"page1.html\", mode='wb') as openfile:\n",
        "  openfile.write(page1.content)"
      ],
      "metadata": {
        "id": "I9ngSvgjfWD_"
      },
      "execution_count": 4,
      "outputs": []
    },
    {
      "cell_type": "code",
      "source": [
        "with open(\"page1.html\", encoding='utf-8', mode='r') as file:\n",
        "  bs = BeautifulSoup(file, 'html.parser')"
      ],
      "metadata": {
        "id": "l5nOSOATgOHx"
      },
      "execution_count": 9,
      "outputs": []
    },
    {
      "cell_type": "code",
      "source": [
        "# bs"
      ],
      "metadata": {
        "id": "EyG5ajxskOSn"
      },
      "execution_count": 11,
      "outputs": []
    },
    {
      "cell_type": "markdown",
      "source": [
        "**Details to extract**\n",
        "\n",
        "1. firm name\n",
        "2. firm motto\n",
        "3. firm reviews\n",
        "\n",
        "5. firm price\n",
        "6. firm employee\n",
        "7. year founded\n",
        "8. firm location"
      ],
      "metadata": {
        "id": "aCJilH0vkhEW"
      }
    },
    {
      "cell_type": "code",
      "source": [
        "firm_name = bs.find_all('span', {'itemprop':'name'})\n",
        "firm_name"
      ],
      "metadata": {
        "colab": {
          "base_uri": "https://localhost:8080/"
        },
        "id": "0E3669f5lysW",
        "outputId": "bcbd2d4b-d073-4877-db05-7676773b5ded"
      },
      "execution_count": 12,
      "outputs": [
        {
          "output_type": "execute_result",
          "data": {
            "text/plain": [
              "[<span itemprop=\"name\">Home</span>,\n",
              " <span itemprop=\"name\">big data analytics</span>,\n",
              " <span itemprop=\"name\">\n",
              " Data Analytics </span>,\n",
              " <span itemprop=\"name\">SPEC INDIA</span>,\n",
              " <span itemprop=\"name\">instinctools</span>,\n",
              " <span itemprop=\"name\">SoluLab</span>,\n",
              " <span itemprop=\"name\">Sigma Data Systems</span>,\n",
              " <span itemprop=\"name\">NeenOpal Inc.</span>,\n",
              " <span itemprop=\"name\">Consagous Technologies</span>,\n",
              " <span itemprop=\"name\">NEX Softsys</span>,\n",
              " <span itemprop=\"name\">Beyond Key</span>,\n",
              " <span itemprop=\"name\">Datapine</span>,\n",
              " <span itemprop=\"name\">Dataforest</span>,\n",
              " <span itemprop=\"name\">pwrteams</span>,\n",
              " <span itemprop=\"name\">Intellias</span>,\n",
              " <span itemprop=\"name\">Altar.io</span>,\n",
              " <span itemprop=\"name\">Huspi</span>,\n",
              " <span itemprop=\"name\">Rudder Analytics</span>,\n",
              " <span itemprop=\"name\">Fayrix</span>,\n",
              " <span itemprop=\"name\">Accubits</span>,\n",
              " <span itemprop=\"name\">OrbitSoft</span>,\n",
              " <span itemprop=\"name\">Broscorp</span>,\n",
              " <span itemprop=\"name\">Clustox</span>,\n",
              " <span itemprop=\"name\">VITech</span>,\n",
              " <span itemprop=\"name\">GFAIVE</span>,\n",
              " <span itemprop=\"name\">SPRYTE Labs</span>,\n",
              " <span itemprop=\"name\">abstractR</span>,\n",
              " <span itemprop=\"name\">SetuServ</span>,\n",
              " <span itemprop=\"name\">InData Labs</span>,\n",
              " <span itemprop=\"name\">Aegis Soft Tech</span>,\n",
              " <span itemprop=\"name\">AM-BITS</span>,\n",
              " <span itemprop=\"name\">ScaleupAlly</span>,\n",
              " <span itemprop=\"name\">ThirdEye Data Inc.</span>,\n",
              " <span itemprop=\"name\">CodeCoda Ltd</span>,\n",
              " <span itemprop=\"name\">S-PRO</span>,\n",
              " <span itemprop=\"name\">Welby Consulting</span>,\n",
              " <span itemprop=\"name\">CDN Solutions Group</span>,\n",
              " <span itemprop=\"name\">WebClues Infotech</span>,\n",
              " <span itemprop=\"name\">MobiDev</span>,\n",
              " <span itemprop=\"name\">Prismetric</span>,\n",
              " <span itemprop=\"name\">Sunflower Lab</span>,\n",
              " <span itemprop=\"name\">Clavax Technologies LLC</span>,\n",
              " <span itemprop=\"name\">APPSTIRR</span>,\n",
              " <span itemprop=\"name\">Classic Informatics</span>,\n",
              " <span itemprop=\"name\">Idealogic</span>,\n",
              " <span itemprop=\"name\">OpenGeeksLab</span>,\n",
              " <span itemprop=\"name\">TrendLine Global</span>,\n",
              " <span itemprop=\"name\">DigiPrima Technologies Pvt. Ltd.</span>,\n",
              " <span itemprop=\"name\">HQSoftware</span>,\n",
              " <span itemprop=\"name\">BR Softech Pvt Ltd</span>,\n",
              " <span itemprop=\"name\">Exceed Team</span>,\n",
              " <span itemprop=\"name\">Maxilect</span>,\n",
              " <span itemprop=\"name\">Burning Buttons LLC</span>,\n",
              " <span itemprop=\"name\">Systango Technologies</span>]"
            ]
          },
          "metadata": {},
          "execution_count": 12
        }
      ]
    },
    {
      "cell_type": "code",
      "source": [
        "firm_name = bs.find_all('span', {'itemprop':'name'})\n",
        "firm_motto = bs.find_all('p', {'class':'profile-tagline'})\n",
        "firm_reviews = bs.find_all('span', {'class':'listinv_review_label'})\n",
        "firm_price = bs.find_all('div', {'class':'firm-pricing'})\n",
        "firm_employee = bs.find_all(\"div\", {'class':'firm-employees'})\n",
        "firm_year = bs.find_all('div', {'class':\"firm-founded\"})\n",
        "firm_location = bs.find_all('div', {'class':'firm-location'})"
      ],
      "metadata": {
        "id": "KytjqE-FoLgZ"
      },
      "execution_count": 14,
      "outputs": []
    },
    {
      "cell_type": "code",
      "source": [
        "firm_motto[:5]"
      ],
      "metadata": {
        "colab": {
          "base_uri": "https://localhost:8080/"
        },
        "id": "K2RRJQ-evNzg",
        "outputId": "6dc6333d-587d-4284-f166-5b5080014b07"
      },
      "execution_count": 15,
      "outputs": [
        {
          "output_type": "execute_result",
          "data": {
            "text/plain": [
              "[<p class=\"profile-tagline\">Enterprise Software, Mobility &amp; BI Solutions</p>,\n",
              " <p class=\"profile-tagline\">Delivering the future. Now.</p>,\n",
              " <p class=\"profile-tagline\">Blockchain | IoT | Mobility | AI | Big Data</p>,\n",
              " <p class=\"profile-tagline\">Discover the world of Big Data with us!</p>,\n",
              " <p class=\"profile-tagline\">The Hub Of Data Science Innovation</p>]"
            ]
          },
          "metadata": {},
          "execution_count": 15
        }
      ]
    },
    {
      "cell_type": "code",
      "source": [
        "firm_reviews[:5]"
      ],
      "metadata": {
        "colab": {
          "base_uri": "https://localhost:8080/"
        },
        "id": "w_Tz4L6EvkVW",
        "outputId": "04ac8d88-bb12-4a51-e7fb-94c6611de200"
      },
      "execution_count": 16,
      "outputs": [
        {
          "output_type": "execute_result",
          "data": {
            "text/plain": [
              "[<span class=\"listinv_review_label\">4.8 (26 Reviews)</span>,\n",
              " <span class=\"listinv_review_label\">4.8 (8 Reviews)</span>,\n",
              " <span class=\"listinv_review_label\">5.0 (32 Reviews)</span>,\n",
              " <span class=\"listinv_review_label\">4.7 (5 Reviews)</span>,\n",
              " <span class=\"listinv_review_label\">5.0 (5 Reviews)</span>]"
            ]
          },
          "metadata": {},
          "execution_count": 16
        }
      ]
    },
    {
      "cell_type": "code",
      "source": [
        "firm_price[:5]"
      ],
      "metadata": {
        "colab": {
          "base_uri": "https://localhost:8080/"
        },
        "id": "bqp9_A6mvods",
        "outputId": "b1d6ccbc-e957-4201-d8a7-3caf8f1c3a2b"
      },
      "execution_count": 17,
      "outputs": [
        {
          "output_type": "execute_result",
          "data": {
            "text/plain": [
              "[<div class=\"firm-pricing\">\n",
              " &lt; $25/hr </div>, <div class=\"firm-pricing\">\n",
              " $50 - $99/hr </div>, <div class=\"firm-pricing\">\n",
              " $25 - $49/hr </div>, <div class=\"firm-pricing\">\n",
              " $25 - $49/hr </div>, <div class=\"firm-pricing\">\n",
              " $25 - $49/hr </div>]"
            ]
          },
          "metadata": {},
          "execution_count": 17
        }
      ]
    },
    {
      "cell_type": "code",
      "source": [
        "firm_employee[:5]"
      ],
      "metadata": {
        "colab": {
          "base_uri": "https://localhost:8080/"
        },
        "id": "J-t8iLbfvtb1",
        "outputId": "f220d743-7bf3-469b-ef2e-60515a4490c6"
      },
      "execution_count": 18,
      "outputs": [
        {
          "output_type": "execute_result",
          "data": {
            "text/plain": [
              "[<div class=\"firm-employees\">250 - 999</div>,\n",
              " <div class=\"firm-employees\">250 - 999</div>,\n",
              " <div class=\"firm-employees\">50 - 249</div>,\n",
              " <div class=\"firm-employees\">250 - 999</div>,\n",
              " <div class=\"firm-employees\">10 - 49</div>]"
            ]
          },
          "metadata": {},
          "execution_count": 18
        }
      ]
    },
    {
      "cell_type": "code",
      "source": [
        "firm_location[:5]"
      ],
      "metadata": {
        "colab": {
          "base_uri": "https://localhost:8080/"
        },
        "id": "bI0YpS3Zv13D",
        "outputId": "52533b7c-71f0-4324-bea0-d4aeb034899d"
      },
      "execution_count": 19,
      "outputs": [
        {
          "output_type": "execute_result",
          "data": {
            "text/plain": [
              "[<div class=\"firm-location\">\n",
              "  India, United States </div>, <div class=\"firm-location\">\n",
              " United States, Germany </div>, <div class=\"firm-location\">\n",
              " United States, India </div>, <div class=\"firm-location\">\n",
              " United States, Australia </div>, <div class=\"firm-location\">\n",
              " United States, India </div>]"
            ]
          },
          "metadata": {},
          "execution_count": 19
        }
      ]
    },
    {
      "cell_type": "code",
      "source": [
        "firm_name[:5]"
      ],
      "metadata": {
        "colab": {
          "base_uri": "https://localhost:8080/"
        },
        "id": "XRws7UjPv5bc",
        "outputId": "17b25754-5f3b-4f06-ed61-17cc92865c92"
      },
      "execution_count": 20,
      "outputs": [
        {
          "output_type": "execute_result",
          "data": {
            "text/plain": [
              "[<span itemprop=\"name\">Home</span>,\n",
              " <span itemprop=\"name\">big data analytics</span>,\n",
              " <span itemprop=\"name\">\n",
              " Data Analytics </span>,\n",
              " <span itemprop=\"name\">SPEC INDIA</span>,\n",
              " <span itemprop=\"name\">instinctools</span>]"
            ]
          },
          "metadata": {},
          "execution_count": 20
        }
      ]
    },
    {
      "cell_type": "code",
      "source": [
        "# so we have to drop the first two rows of firm_name since it contains data before the ones needed.\n",
        "\n",
        "# We write a function to extract contents in the tags"
      ],
      "metadata": {
        "id": "I1bbzMmKwBWV"
      },
      "execution_count": 21,
      "outputs": []
    },
    {
      "cell_type": "code",
      "source": [
        "def retrieve_text(col):\n",
        "  lst = []\n",
        "\n",
        "  for tag in col:\n",
        "    lst.append(tag.text)\n",
        "  return pd.Series(lst)"
      ],
      "metadata": {
        "id": "hsAU6e_lw4N4"
      },
      "execution_count": 25,
      "outputs": []
    },
    {
      "cell_type": "code",
      "source": [
        "company = retrieve_text(firm_name[3:])\n",
        "company[:5]"
      ],
      "metadata": {
        "colab": {
          "base_uri": "https://localhost:8080/"
        },
        "id": "SLzUTFNsxoLb",
        "outputId": "07cd9e87-4a8f-4315-b60a-40f03ebf6095"
      },
      "execution_count": 26,
      "outputs": [
        {
          "output_type": "execute_result",
          "data": {
            "text/plain": [
              "0            SPEC INDIA\n",
              "1          instinctools\n",
              "2               SoluLab\n",
              "3    Sigma Data Systems\n",
              "4         NeenOpal Inc.\n",
              "dtype: object"
            ]
          },
          "metadata": {},
          "execution_count": 26
        }
      ]
    },
    {
      "cell_type": "code",
      "source": [
        "# do same for other columns\n",
        "motto = retrieve_text(firm_motto)\n",
        "review = retrieve_text(firm_reviews)\n",
        "price_per_hr = retrieve_text(firm_price)\n",
        "no_of_employee = retrieve_text(firm_employee)\n",
        "year = retrieve_text(firm_year)\n",
        "location = retrieve_text(firm_location)\n"
      ],
      "metadata": {
        "id": "SLmUcY-TxyO0"
      },
      "execution_count": 27,
      "outputs": []
    },
    {
      "cell_type": "code",
      "source": [
        "motto[:5]"
      ],
      "metadata": {
        "colab": {
          "base_uri": "https://localhost:8080/"
        },
        "id": "hX3ds9HGzDKj",
        "outputId": "d0a40142-15dc-4cc6-b803-3a4acd08bb97"
      },
      "execution_count": 29,
      "outputs": [
        {
          "output_type": "execute_result",
          "data": {
            "text/plain": [
              "0    Enterprise Software, Mobility & BI Solutions\n",
              "1                     Delivering the future. Now.\n",
              "2     Blockchain | IoT | Mobility | AI | Big Data\n",
              "3         Discover the world of Big Data with us!\n",
              "4              The Hub Of Data Science Innovation\n",
              "dtype: object"
            ]
          },
          "metadata": {},
          "execution_count": 29
        }
      ]
    },
    {
      "cell_type": "markdown",
      "source": [
        "**Create Dataframe**"
      ],
      "metadata": {
        "id": "R4lHX0EgzYeB"
      }
    },
    {
      "cell_type": "code",
      "source": [
        "df = pd.DataFrame()"
      ],
      "metadata": {
        "id": "y4fPqNw_zL0R"
      },
      "execution_count": 30,
      "outputs": []
    },
    {
      "cell_type": "code",
      "source": [
        "df[\"name\"] = company\n",
        "df[\"motto\"] = motto\n",
        "df[\"location\"] = location\n",
        "df[\"year\"] = year\n",
        "df[\"review\"] = review\n",
        "df[\"no-of-employees\"] = no_of_employee\n",
        "df[\"price-per-hr\"] = price_per_hr"
      ],
      "metadata": {
        "id": "Z39UJ6iUzjB6"
      },
      "execution_count": 31,
      "outputs": []
    },
    {
      "cell_type": "code",
      "source": [
        "df.head()"
      ],
      "metadata": {
        "colab": {
          "base_uri": "https://localhost:8080/",
          "height": 206
        },
        "id": "fLQ4UQSF0RU9",
        "outputId": "1f21b17d-9d94-42c9-8701-548e51448d89"
      },
      "execution_count": 32,
      "outputs": [
        {
          "output_type": "execute_result",
          "data": {
            "text/plain": [
              "                 name                                         motto  \\\n",
              "0          SPEC INDIA  Enterprise Software, Mobility & BI Solutions   \n",
              "1        instinctools                   Delivering the future. Now.   \n",
              "2             SoluLab   Blockchain | IoT | Mobility | AI | Big Data   \n",
              "3  Sigma Data Systems       Discover the world of Big Data with us!   \n",
              "4       NeenOpal Inc.            The Hub Of Data Science Innovation   \n",
              "\n",
              "                      location  year            review no-of-employees  \\\n",
              "0     \\n India, United States   1987  4.8 (26 Reviews)       250 - 999   \n",
              "1    \\nUnited States, Germany   2000   4.8 (8 Reviews)       250 - 999   \n",
              "2      \\nUnited States, India   2014  5.0 (32 Reviews)        50 - 249   \n",
              "3  \\nUnited States, Australia   2010   4.7 (5 Reviews)       250 - 999   \n",
              "4      \\nUnited States, India   2016   5.0 (5 Reviews)         10 - 49   \n",
              "\n",
              "      price-per-hr  \n",
              "0      \\n< $25/hr   \n",
              "1  \\n$50 - $99/hr   \n",
              "2  \\n$25 - $49/hr   \n",
              "3  \\n$25 - $49/hr   \n",
              "4  \\n$25 - $49/hr   "
            ],
            "text/html": [
              "\n",
              "  <div id=\"df-f97fc35c-3cf7-4e70-bd9b-61fd030445d0\">\n",
              "    <div class=\"colab-df-container\">\n",
              "      <div>\n",
              "<style scoped>\n",
              "    .dataframe tbody tr th:only-of-type {\n",
              "        vertical-align: middle;\n",
              "    }\n",
              "\n",
              "    .dataframe tbody tr th {\n",
              "        vertical-align: top;\n",
              "    }\n",
              "\n",
              "    .dataframe thead th {\n",
              "        text-align: right;\n",
              "    }\n",
              "</style>\n",
              "<table border=\"1\" class=\"dataframe\">\n",
              "  <thead>\n",
              "    <tr style=\"text-align: right;\">\n",
              "      <th></th>\n",
              "      <th>name</th>\n",
              "      <th>motto</th>\n",
              "      <th>location</th>\n",
              "      <th>year</th>\n",
              "      <th>review</th>\n",
              "      <th>no-of-employees</th>\n",
              "      <th>price-per-hr</th>\n",
              "    </tr>\n",
              "  </thead>\n",
              "  <tbody>\n",
              "    <tr>\n",
              "      <th>0</th>\n",
              "      <td>SPEC INDIA</td>\n",
              "      <td>Enterprise Software, Mobility &amp; BI Solutions</td>\n",
              "      <td>\\n India, United States</td>\n",
              "      <td>1987</td>\n",
              "      <td>4.8 (26 Reviews)</td>\n",
              "      <td>250 - 999</td>\n",
              "      <td>\\n&lt; $25/hr</td>\n",
              "    </tr>\n",
              "    <tr>\n",
              "      <th>1</th>\n",
              "      <td>instinctools</td>\n",
              "      <td>Delivering the future. Now.</td>\n",
              "      <td>\\nUnited States, Germany</td>\n",
              "      <td>2000</td>\n",
              "      <td>4.8 (8 Reviews)</td>\n",
              "      <td>250 - 999</td>\n",
              "      <td>\\n$50 - $99/hr</td>\n",
              "    </tr>\n",
              "    <tr>\n",
              "      <th>2</th>\n",
              "      <td>SoluLab</td>\n",
              "      <td>Blockchain | IoT | Mobility | AI | Big Data</td>\n",
              "      <td>\\nUnited States, India</td>\n",
              "      <td>2014</td>\n",
              "      <td>5.0 (32 Reviews)</td>\n",
              "      <td>50 - 249</td>\n",
              "      <td>\\n$25 - $49/hr</td>\n",
              "    </tr>\n",
              "    <tr>\n",
              "      <th>3</th>\n",
              "      <td>Sigma Data Systems</td>\n",
              "      <td>Discover the world of Big Data with us!</td>\n",
              "      <td>\\nUnited States, Australia</td>\n",
              "      <td>2010</td>\n",
              "      <td>4.7 (5 Reviews)</td>\n",
              "      <td>250 - 999</td>\n",
              "      <td>\\n$25 - $49/hr</td>\n",
              "    </tr>\n",
              "    <tr>\n",
              "      <th>4</th>\n",
              "      <td>NeenOpal Inc.</td>\n",
              "      <td>The Hub Of Data Science Innovation</td>\n",
              "      <td>\\nUnited States, India</td>\n",
              "      <td>2016</td>\n",
              "      <td>5.0 (5 Reviews)</td>\n",
              "      <td>10 - 49</td>\n",
              "      <td>\\n$25 - $49/hr</td>\n",
              "    </tr>\n",
              "  </tbody>\n",
              "</table>\n",
              "</div>\n",
              "      <button class=\"colab-df-convert\" onclick=\"convertToInteractive('df-f97fc35c-3cf7-4e70-bd9b-61fd030445d0')\"\n",
              "              title=\"Convert this dataframe to an interactive table.\"\n",
              "              style=\"display:none;\">\n",
              "        \n",
              "  <svg xmlns=\"http://www.w3.org/2000/svg\" height=\"24px\"viewBox=\"0 0 24 24\"\n",
              "       width=\"24px\">\n",
              "    <path d=\"M0 0h24v24H0V0z\" fill=\"none\"/>\n",
              "    <path d=\"M18.56 5.44l.94 2.06.94-2.06 2.06-.94-2.06-.94-.94-2.06-.94 2.06-2.06.94zm-11 1L8.5 8.5l.94-2.06 2.06-.94-2.06-.94L8.5 2.5l-.94 2.06-2.06.94zm10 10l.94 2.06.94-2.06 2.06-.94-2.06-.94-.94-2.06-.94 2.06-2.06.94z\"/><path d=\"M17.41 7.96l-1.37-1.37c-.4-.4-.92-.59-1.43-.59-.52 0-1.04.2-1.43.59L10.3 9.45l-7.72 7.72c-.78.78-.78 2.05 0 2.83L4 21.41c.39.39.9.59 1.41.59.51 0 1.02-.2 1.41-.59l7.78-7.78 2.81-2.81c.8-.78.8-2.07 0-2.86zM5.41 20L4 18.59l7.72-7.72 1.47 1.35L5.41 20z\"/>\n",
              "  </svg>\n",
              "      </button>\n",
              "      \n",
              "  <style>\n",
              "    .colab-df-container {\n",
              "      display:flex;\n",
              "      flex-wrap:wrap;\n",
              "      gap: 12px;\n",
              "    }\n",
              "\n",
              "    .colab-df-convert {\n",
              "      background-color: #E8F0FE;\n",
              "      border: none;\n",
              "      border-radius: 50%;\n",
              "      cursor: pointer;\n",
              "      display: none;\n",
              "      fill: #1967D2;\n",
              "      height: 32px;\n",
              "      padding: 0 0 0 0;\n",
              "      width: 32px;\n",
              "    }\n",
              "\n",
              "    .colab-df-convert:hover {\n",
              "      background-color: #E2EBFA;\n",
              "      box-shadow: 0px 1px 2px rgba(60, 64, 67, 0.3), 0px 1px 3px 1px rgba(60, 64, 67, 0.15);\n",
              "      fill: #174EA6;\n",
              "    }\n",
              "\n",
              "    [theme=dark] .colab-df-convert {\n",
              "      background-color: #3B4455;\n",
              "      fill: #D2E3FC;\n",
              "    }\n",
              "\n",
              "    [theme=dark] .colab-df-convert:hover {\n",
              "      background-color: #434B5C;\n",
              "      box-shadow: 0px 1px 3px 1px rgba(0, 0, 0, 0.15);\n",
              "      filter: drop-shadow(0px 1px 2px rgba(0, 0, 0, 0.3));\n",
              "      fill: #FFFFFF;\n",
              "    }\n",
              "  </style>\n",
              "\n",
              "      <script>\n",
              "        const buttonEl =\n",
              "          document.querySelector('#df-f97fc35c-3cf7-4e70-bd9b-61fd030445d0 button.colab-df-convert');\n",
              "        buttonEl.style.display =\n",
              "          google.colab.kernel.accessAllowed ? 'block' : 'none';\n",
              "\n",
              "        async function convertToInteractive(key) {\n",
              "          const element = document.querySelector('#df-f97fc35c-3cf7-4e70-bd9b-61fd030445d0');\n",
              "          const dataTable =\n",
              "            await google.colab.kernel.invokeFunction('convertToInteractive',\n",
              "                                                     [key], {});\n",
              "          if (!dataTable) return;\n",
              "\n",
              "          const docLinkHtml = 'Like what you see? Visit the ' +\n",
              "            '<a target=\"_blank\" href=https://colab.research.google.com/notebooks/data_table.ipynb>data table notebook</a>'\n",
              "            + ' to learn more about interactive tables.';\n",
              "          element.innerHTML = '';\n",
              "          dataTable['output_type'] = 'display_data';\n",
              "          await google.colab.output.renderOutput(dataTable, element);\n",
              "          const docLink = document.createElement('div');\n",
              "          docLink.innerHTML = docLinkHtml;\n",
              "          element.appendChild(docLink);\n",
              "        }\n",
              "      </script>\n",
              "    </div>\n",
              "  </div>\n",
              "  "
            ]
          },
          "metadata": {},
          "execution_count": 32
        }
      ]
    },
    {
      "cell_type": "code",
      "source": [
        "df.shape"
      ],
      "metadata": {
        "colab": {
          "base_uri": "https://localhost:8080/"
        },
        "id": "h_zKQI3w0TTe",
        "outputId": "03c94e9a-e1e8-4a21-b101-65ec438dd2a5"
      },
      "execution_count": 34,
      "outputs": [
        {
          "output_type": "execute_result",
          "data": {
            "text/plain": [
              "(51, 7)"
            ]
          },
          "metadata": {},
          "execution_count": 34
        }
      ]
    },
    {
      "cell_type": "markdown",
      "source": [
        "**Next Stop, will be data cleaning and Exploration, See YOU there!!!**"
      ],
      "metadata": {
        "id": "bU4PteeR0xeQ"
      }
    },
    {
      "cell_type": "markdown",
      "source": [
        "**Futher Work:**\n",
        "\n",
        "Generate questions this Dataset can aid us do some analysis\n",
        "\n",
        "Clean Dataset\n",
        "\n",
        "Extract other two pages\n",
        "**"
      ],
      "metadata": {
        "id": "dKzM5bSZ1MyJ"
      }
    },
    {
      "cell_type": "code",
      "source": [],
      "metadata": {
        "id": "Ky9WEFGr0tYP"
      },
      "execution_count": null,
      "outputs": []
    }
  ]
}